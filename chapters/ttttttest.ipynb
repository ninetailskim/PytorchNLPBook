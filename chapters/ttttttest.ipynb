{
 "cells": [
  {
   "cell_type": "code",
   "execution_count": 17,
   "metadata": {},
   "outputs": [
    {
     "name": "stdout",
     "output_type": "stream",
     "text": [
      "yes\n",
      "yes2\n",
      "dict_keys(['a', 'b', 'c'])\n",
      "dict_items([('a', 1), ('b', 2), ('c', 3)])\n"
     ]
    }
   ],
   "source": [
    "a = {'a':1,'b':2,'c':3}\n",
    "if 'a' in a:\n",
    "    print(\"yes\")\n",
    "    \n",
    "if 'a' in a.keys():\n",
    "    print('yes2')\n",
    "    \n",
    "print(a.keys())\n",
    "\n",
    "print(a.items())"
   ]
  },
  {
   "cell_type": "code",
   "execution_count": 18,
   "metadata": {},
   "outputs": [
    {
     "name": "stdout",
     "output_type": "stream",
     "text": [
      "{'a': 1, 'b': 2, 'c': 3}\n",
      "{'a': 1, 'b': 2, 'c': 3, 'd': 123, 'e': 456, 'f': 789}\n"
     ]
    }
   ],
   "source": [
    "print(a)\n",
    "a.update({'d':123,'e':456,'f':789})\n",
    "print(a)"
   ]
  },
  {
   "cell_type": "code",
   "execution_count": 22,
   "metadata": {},
   "outputs": [
    {
     "name": "stdout",
     "output_type": "stream",
     "text": [
      "<class 'tuple'>\n",
      "a : 1\n",
      "<class 'tuple'>\n",
      "b : 2\n",
      "<class 'tuple'>\n",
      "c : 3\n",
      "<class 'tuple'>\n",
      "d : 123\n",
      "<class 'tuple'>\n",
      "e : 456\n",
      "<class 'tuple'>\n",
      "f : 789\n"
     ]
    }
   ],
   "source": [
    "for x in a.items():\n",
    "    print(type(x))\n",
    "    print(x[0],\":\",x[1])"
   ]
  },
  {
   "cell_type": "code",
   "execution_count": 19,
   "metadata": {},
   "outputs": [
    {
     "name": "stdout",
     "output_type": "stream",
     "text": [
      "3\n",
      "3\n",
      "None\n",
      "9876\n"
     ]
    }
   ],
   "source": [
    "print(a.get('c'))\n",
    "print(a.get('c',234567))\n",
    "print(a.get('g'))\n",
    "print(a.get('g',9876))"
   ]
  },
  {
   "cell_type": "code",
   "execution_count": 23,
   "metadata": {},
   "outputs": [],
   "source": [
    "import pandas as pd"
   ]
  },
  {
   "cell_type": "code",
   "execution_count": 28,
   "metadata": {},
   "outputs": [
    {
     "name": "stdout",
     "output_type": "stream",
     "text": [
      "  nationality  nationality_index  split   surname\n",
      "0      Arabic                 15  train     Totah\n",
      "1      Arabic                 15  train    Abboud\n",
      "2      Arabic                 15  train  Fakhoury\n",
      "3      Arabic                 15  train     Srour\n",
      "4      Arabic                 15  train    Sayegh\n",
      "nationality          Arabic\n",
      "nationality_index        15\n",
      "split                 train\n",
      "surname              Abboud\n",
      "Name: 1, dtype: object\n"
     ]
    }
   ],
   "source": [
    "df = pd.read_csv('../data/surnames/surnames_with_splits.csv')\n",
    "\n",
    "print(df.head())\n",
    "\n",
    "print(df.iloc[1])"
   ]
  },
  {
   "cell_type": "code",
   "execution_count": 12,
   "metadata": {},
   "outputs": [],
   "source": [
    "class Test(object):\n",
    "    def __init__(self):\n",
    "        print(\"init\")\n",
    "        self.a = [1,3,34,4,5,6,76,7,8,9]\n",
    "        \n",
    "    def __str__(self):\n",
    "        return \"%d\" % len(self)\n",
    "    \n",
    "    def __len__(self):\n",
    "        return len(self.a)"
   ]
  },
  {
   "cell_type": "code",
   "execution_count": 13,
   "metadata": {},
   "outputs": [
    {
     "name": "stdout",
     "output_type": "stream",
     "text": [
      "init\n"
     ]
    }
   ],
   "source": [
    "a = Test()"
   ]
  },
  {
   "cell_type": "code",
   "execution_count": 14,
   "metadata": {},
   "outputs": [
    {
     "data": {
      "text/plain": [
       "<bound method Test.__str__ of <__main__.Test object at 0x0000018C12B802B0>>"
      ]
     },
     "execution_count": 14,
     "metadata": {},
     "output_type": "execute_result"
    }
   ],
   "source": [
    "a.__str__"
   ]
  },
  {
   "cell_type": "code",
   "execution_count": 15,
   "metadata": {},
   "outputs": [
    {
     "name": "stdout",
     "output_type": "stream",
     "text": [
      "10\n"
     ]
    }
   ],
   "source": [
    "print(a)"
   ]
  },
  {
   "cell_type": "code",
   "execution_count": 42,
   "metadata": {},
   "outputs": [
    {
     "name": "stdout",
     "output_type": "stream",
     "text": [
      "[tensor([0., 0., 0., 0., 0.]), tensor([1., 1., 1., 1., 1.]), tensor([2., 2., 2., 2., 2.]), tensor([3., 3., 3., 3., 3.]), tensor([4., 4., 4., 4., 4.])]\n",
      "tensor([[0., 0., 0., 0., 0.],\n",
      "        [1., 1., 1., 1., 1.],\n",
      "        [2., 2., 2., 2., 2.],\n",
      "        [3., 3., 3., 3., 3.],\n",
      "        [4., 4., 4., 4., 4.]])\n"
     ]
    }
   ],
   "source": [
    "import numpy as np\n",
    "import torch\n",
    "\n",
    "hiddens = []\n",
    "for x in range(5):\n",
    "    hiddens.append(torch.ones(5) * x)\n",
    "\n",
    "print(hiddens)\n",
    "\n",
    "#hiddens = torch.from_numpy(hiddens)\n",
    "hiddens = torch.stack(hiddens)\n",
    "\n",
    "print(hiddens)"
   ]
  },
  {
   "cell_type": "code",
   "execution_count": 43,
   "metadata": {},
   "outputs": [
    {
     "name": "stdout",
     "output_type": "stream",
     "text": [
      "torch.Size([5, 5])\n",
      "torch.Size([1, 5, 5])\n",
      "tensor([[[0., 0., 0., 0., 0.],\n",
      "         [1., 1., 1., 1., 1.],\n",
      "         [2., 2., 2., 2., 2.],\n",
      "         [3., 3., 3., 3., 3.],\n",
      "         [4., 4., 4., 4., 4.]]])\n",
      "torch.Size([5, 1, 5])\n",
      "tensor([[[0., 0., 0., 0., 0.]],\n",
      "\n",
      "        [[1., 1., 1., 1., 1.]],\n",
      "\n",
      "        [[2., 2., 2., 2., 2.]],\n",
      "\n",
      "        [[3., 3., 3., 3., 3.]],\n",
      "\n",
      "        [[4., 4., 4., 4., 4.]]])\n"
     ]
    }
   ],
   "source": [
    "print(hiddens.size())\n",
    "\n",
    "hiddens = torch.unsqueeze(hiddens,0)\n",
    "print(hiddens.size())\n",
    "print(hiddens)\n",
    "hiddens = hiddens.permute(1, 0, 2)\n",
    "\n",
    "print(hiddens.size())\n",
    "print(hiddens)"
   ]
  },
  {
   "cell_type": "code",
   "execution_count": null,
   "metadata": {},
   "outputs": [],
   "source": []
  }
 ],
 "metadata": {
  "kernelspec": {
   "display_name": "Python 3",
   "language": "python",
   "name": "python3"
  },
  "language_info": {
   "codemirror_mode": {
    "name": "ipython",
    "version": 3
   },
   "file_extension": ".py",
   "mimetype": "text/x-python",
   "name": "python",
   "nbconvert_exporter": "python",
   "pygments_lexer": "ipython3",
   "version": "3.6.8"
  }
 },
 "nbformat": 4,
 "nbformat_minor": 2
}
